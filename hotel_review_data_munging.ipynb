{
 "cells": [
  {
   "cell_type": "markdown",
   "id": "be9a6708-ce76-4a41-a0d2-528cb1932164",
   "metadata": {},
   "source": [
    "Hotels Review Data Cleaning"
   ]
  },
  {
   "cell_type": "code",
   "execution_count": 441,
   "id": "0b7ec54e-f892-46fd-9367-a3e3f63f3827",
   "metadata": {},
   "outputs": [
    {
     "name": "stdout",
     "output_type": "stream",
     "text": [
      "/Users/sarahrymorris/Downloads\n"
     ]
    }
   ],
   "source": [
    "import os\n",
    "\n",
    "os.chdir('/Users/sarahrymorris/downloads')\n",
    "print(os.getcwd())"
   ]
  },
  {
   "cell_type": "markdown",
   "id": "50df060a-a403-4653-830f-f75dc6b6a2b9",
   "metadata": {},
   "source": [
    "My Purpose for this Project:\n",
    "\n",
    "Hello and welcome to my attempt to clean two very (dirty?) datasets scraped from booking.com and tripadvisor.com. I love to travel, eat good food, and try new places - but I will never go anywhere without doing some research ahead of time. I'm known among my friends and family for spending hours scouring reviews across the web before booking a hotel or a reservation. However, after spending so many hours reading reviews - everything starts to blend together. And how do you know which reviews to trust? I began to wonder if I could use some Python to analyze and figure out how to determine if there are some commonalities between the hotels with the highest ratings on Trip Advisor or Booking.com."
   ]
  },
  {
   "cell_type": "markdown",
   "id": "4a76cf2f-119b-4fa9-a319-d7f3eded3357",
   "metadata": {},
   "source": [
    "A note on the actual code:\n",
    "\n",
    "The majority of this project consists of cleaning these datasets and getting them into a usable format to run basic analysis on them.\n",
    "Unfortunately, the two datasets, once merged, only share 6 hotels in common so I wasn't able to perform sentiment analysis on the actual reviews. Oh well! At least there's an opportunity for my next project."
   ]
  },
  {
   "cell_type": "code",
   "execution_count": 444,
   "id": "f0846016-96a1-40d7-a689-855046eeac23",
   "metadata": {},
   "outputs": [],
   "source": [
    "import pandas as pd\n",
    "import numpy as np\n",
    "import seaborn as sb\n",
    "import matplotlib.pyplot as plt"
   ]
  },
  {
   "cell_type": "code",
   "execution_count": 445,
   "id": "cebe1b51-af71-4e85-822d-4a94d935ae22",
   "metadata": {},
   "outputs": [],
   "source": [
    "#Read in the Datasets\n",
    "booking = pd.read_csv(\"booking_hotel.csv\", engine = \"python\")\n",
    "tripadvisor = pd.read_csv(\"tripadvisor_room.csv\", engine = \"python\")"
   ]
  },
  {
   "cell_type": "code",
   "execution_count": 446,
   "id": "72716a86-eb11-459b-88e2-c0e39471ca86",
   "metadata": {},
   "outputs": [
    {
     "name": "stdout",
     "output_type": "stream",
     "text": [
      "<class 'pandas.core.frame.DataFrame'>\n",
      "RangeIndex: 3465 entries, 0 to 3464\n",
      "Data columns (total 9 columns):\n",
      " #   Column                                     Non-Null Count  Dtype  \n",
      "---  ------                                     --------------  -----  \n",
      " 0   Hotel Name                                 3465 non-null   object \n",
      " 1   Location                                   3465 non-null   object \n",
      " 2   Rating                                     3365 non-null   object \n",
      " 3   Review Score                               3359 non-null   object \n",
      " 4   Number of                                  3359 non-null   object \n",
      " 5   Room    Score                              2709 non-null   float64\n",
      " 6   Room Type                                  3465 non-null   object \n",
      " 7   Bed Type                                   3449 non-null   object \n",
      " 8   Room Price (in BDT or any other currency)  3465 non-null   object \n",
      "dtypes: float64(1), object(8)\n",
      "memory usage: 243.8+ KB\n"
     ]
    },
    {
     "data": {
      "text/html": [
       "<div>\n",
       "<style scoped>\n",
       "    .dataframe tbody tr th:only-of-type {\n",
       "        vertical-align: middle;\n",
       "    }\n",
       "\n",
       "    .dataframe tbody tr th {\n",
       "        vertical-align: top;\n",
       "    }\n",
       "\n",
       "    .dataframe thead th {\n",
       "        text-align: right;\n",
       "    }\n",
       "</style>\n",
       "<table border=\"1\" class=\"dataframe\">\n",
       "  <thead>\n",
       "    <tr style=\"text-align: right;\">\n",
       "      <th></th>\n",
       "      <th>Hotel Name</th>\n",
       "      <th>Location</th>\n",
       "      <th>Rating</th>\n",
       "      <th>Review Score</th>\n",
       "      <th>Number of</th>\n",
       "      <th>Room    Score</th>\n",
       "      <th>Room Type</th>\n",
       "      <th>Bed Type</th>\n",
       "      <th>Room Price (in BDT or any other currency)</th>\n",
       "    </tr>\n",
       "  </thead>\n",
       "  <tbody>\n",
       "    <tr>\n",
       "      <th>0</th>\n",
       "      <td>Krabi La Playa Resort - SHA Plus</td>\n",
       "      <td>Ao Nang Beach</td>\n",
       "      <td>8.2</td>\n",
       "      <td>Very Good</td>\n",
       "      <td>141</td>\n",
       "      <td>8.6</td>\n",
       "      <td>Deluxe Double or Twin Room</td>\n",
       "      <td>1 double or 2 twins</td>\n",
       "      <td>†146,026</td>\n",
       "    </tr>\n",
       "    <tr>\n",
       "      <th>1</th>\n",
       "      <td>KC Beach Club &amp; Pool Villas</td>\n",
       "      <td>Chaweng City Center , Chaweng</td>\n",
       "      <td>7.1</td>\n",
       "      <td>Good</td>\n",
       "      <td>193</td>\n",
       "      <td>NaN</td>\n",
       "      <td>Double Room with Balcony and Sea View</td>\n",
       "      <td>1 queen bed</td>\n",
       "      <td>†215,304</td>\n",
       "    </tr>\n",
       "    <tr>\n",
       "      <th>2</th>\n",
       "      <td>Rawai VIP Villas &amp; Kids Park</td>\n",
       "      <td>Rawai Beach</td>\n",
       "      <td>8.3</td>\n",
       "      <td>Very Good</td>\n",
       "      <td>63</td>\n",
       "      <td>8.9</td>\n",
       "      <td>2 Bedroom Pool Villa</td>\n",
       "      <td>2 queen beds</td>\n",
       "      <td>†435,384</td>\n",
       "    </tr>\n",
       "    <tr>\n",
       "      <th>3</th>\n",
       "      <td>FuramaXclusive Sathorn, Bangkok</td>\n",
       "      <td>Bang Rak, Bangkok</td>\n",
       "      <td>7.7</td>\n",
       "      <td>Good</td>\n",
       "      <td>1,304</td>\n",
       "      <td>8.1</td>\n",
       "      <td>Executive Double Room</td>\n",
       "      <td>1 full bed</td>\n",
       "      <td>†146,240</td>\n",
       "    </tr>\n",
       "    <tr>\n",
       "      <th>4</th>\n",
       "      <td>Bo Phut Resort and Spa - SHA Plus</td>\n",
       "      <td>Bophut</td>\n",
       "      <td>9.3</td>\n",
       "      <td>Wonderful</td>\n",
       "      <td>294</td>\n",
       "      <td>9.6</td>\n",
       "      <td>Villa with Garden View</td>\n",
       "      <td>1 double or 2 twins</td>\n",
       "      <td>†621,072</td>\n",
       "    </tr>\n",
       "  </tbody>\n",
       "</table>\n",
       "</div>"
      ],
      "text/plain": [
       "                          Hotel Name                       Location Rating  \\\n",
       "0   Krabi La Playa Resort - SHA Plus                  Ao Nang Beach    8.2   \n",
       "1        KC Beach Club & Pool Villas  Chaweng City Center , Chaweng    7.1   \n",
       "2       Rawai VIP Villas & Kids Park                    Rawai Beach    8.3   \n",
       "3    FuramaXclusive Sathorn, Bangkok              Bang Rak, Bangkok    7.7   \n",
       "4  Bo Phut Resort and Spa - SHA Plus                         Bophut    9.3   \n",
       "\n",
       "  Review Score Number of     Room    Score  \\\n",
       "0    Very Good          141            8.6   \n",
       "1         Good          193            NaN   \n",
       "2    Very Good           63            8.9   \n",
       "3         Good        1,304            8.1   \n",
       "4    Wonderful          294            9.6   \n",
       "\n",
       "                               Room Type                Bed Type  \\\n",
       "0             Deluxe Double or Twin Room     1 double or 2 twins   \n",
       "1  Double Room with Balcony and Sea View             1 queen bed   \n",
       "2                   2 Bedroom Pool Villa            2 queen beds   \n",
       "3                  Executive Double Room              1 full bed   \n",
       "4                 Villa with Garden View     1 double or 2 twins   \n",
       "\n",
       "  Room Price (in BDT or any other currency)  \n",
       "0                                  †146,026  \n",
       "1                                  †215,304  \n",
       "2                                  †435,384  \n",
       "3                                  †146,240  \n",
       "4                                  †621,072  "
      ]
     },
     "execution_count": 446,
     "metadata": {},
     "output_type": "execute_result"
    }
   ],
   "source": [
    "#Overview of Booking Dataset\n",
    "booking.info()\n",
    "booking.head()"
   ]
  },
  {
   "cell_type": "code",
   "execution_count": 447,
   "id": "22d229cc-06bf-462f-8972-be33d4be3009",
   "metadata": {
    "scrolled": true
   },
   "outputs": [
    {
     "name": "stdout",
     "output_type": "stream",
     "text": [
      "<class 'pandas.core.frame.DataFrame'>\n",
      "RangeIndex: 4477 entries, 0 to 4476\n",
      "Data columns (total 4 columns):\n",
      " #   Column                                     Non-Null Count  Dtype \n",
      "---  ------                                     --------------  ----- \n",
      " 0   property name                              4477 non-null   object\n",
      " 1   Room Price (in BDT or any other currency)  3131 non-null   object\n",
      " 2   review_count                               4477 non-null   object\n",
      " 3   Comment about room                         3473 non-null   object\n",
      "dtypes: object(4)\n",
      "memory usage: 140.0+ KB\n"
     ]
    },
    {
     "data": {
      "text/html": [
       "<div>\n",
       "<style scoped>\n",
       "    .dataframe tbody tr th:only-of-type {\n",
       "        vertical-align: middle;\n",
       "    }\n",
       "\n",
       "    .dataframe tbody tr th {\n",
       "        vertical-align: top;\n",
       "    }\n",
       "\n",
       "    .dataframe thead th {\n",
       "        text-align: right;\n",
       "    }\n",
       "</style>\n",
       "<table border=\"1\" class=\"dataframe\">\n",
       "  <thead>\n",
       "    <tr style=\"text-align: right;\">\n",
       "      <th></th>\n",
       "      <th>property name</th>\n",
       "      <th>Room Price (in BDT or any other currency)</th>\n",
       "      <th>review_count</th>\n",
       "      <th>Comment about room</th>\n",
       "    </tr>\n",
       "  </thead>\n",
       "  <tbody>\n",
       "    <tr>\n",
       "      <th>0</th>\n",
       "      <td>1. SALA Samui Choengmon Beach Resort</td>\n",
       "      <td>†45,854</td>\n",
       "      <td>2,820</td>\n",
       "      <td>The breakfast is excellent, the pools are real...</td>\n",
       "    </tr>\n",
       "    <tr>\n",
       "      <th>1</th>\n",
       "      <td>2. Napasai, A Belmond Hotel, Koh Samui</td>\n",
       "      <td>†29,666</td>\n",
       "      <td>1,191</td>\n",
       "      <td>We a had perfect view at the beach,</td>\n",
       "    </tr>\n",
       "    <tr>\n",
       "      <th>2</th>\n",
       "      <td>3. Pimalai Resort and Spa</td>\n",
       "      <td>†31,667</td>\n",
       "      <td>3,287</td>\n",
       "      <td>It has everything</td>\n",
       "    </tr>\n",
       "    <tr>\n",
       "      <th>3</th>\n",
       "      <td>4. Avani+ Mai Khao Phuket Suites &amp; Villas</td>\n",
       "      <td>†23,887</td>\n",
       "      <td>144</td>\n",
       "      <td>the villa was very</td>\n",
       "    </tr>\n",
       "    <tr>\n",
       "      <th>4</th>\n",
       "      <td>5. Sheraton Samui Resort</td>\n",
       "      <td>†18,816</td>\n",
       "      <td>1,006</td>\n",
       "      <td>Me &amp; my wife stayed there for 3 Nights and we ...</td>\n",
       "    </tr>\n",
       "  </tbody>\n",
       "</table>\n",
       "</div>"
      ],
      "text/plain": [
       "                              property name   \\\n",
       "0       1. SALA Samui Choengmon Beach Resort   \n",
       "1     2. Napasai, A Belmond Hotel, Koh Samui   \n",
       "2                  3. Pimalai Resort and Spa   \n",
       "3  4. Avani+ Mai Khao Phuket Suites & Villas   \n",
       "4                   5. Sheraton Samui Resort   \n",
       "\n",
       "  Room Price (in BDT or any other currency) review_count  \\\n",
       "0                                   †45,854        2,820   \n",
       "1                                   †29,666        1,191   \n",
       "2                                   †31,667        3,287   \n",
       "3                                   †23,887          144   \n",
       "4                                   †18,816        1,006   \n",
       "\n",
       "                                  Comment about room  \n",
       "0  The breakfast is excellent, the pools are real...  \n",
       "1                We a had perfect view at the beach,  \n",
       "2                                  It has everything  \n",
       "3                                 the villa was very  \n",
       "4  Me & my wife stayed there for 3 Nights and we ...  "
      ]
     },
     "execution_count": 447,
     "metadata": {},
     "output_type": "execute_result"
    }
   ],
   "source": [
    "#Overview of Trip Advisor Dataset\n",
    "tripadvisor.info()\n",
    "tripadvisor.head()"
   ]
  },
  {
   "cell_type": "code",
   "execution_count": 448,
   "id": "fba982fc-f8f8-48f9-92cf-f65ebc6c5e61",
   "metadata": {
    "scrolled": true
   },
   "outputs": [
    {
     "data": {
      "text/plain": [
       "Index(['property name ', 'Room Price (in BDT or any other currency)',\n",
       "       'review_count', 'Comment about room'],\n",
       "      dtype='object')"
      ]
     },
     "execution_count": 448,
     "metadata": {},
     "output_type": "execute_result"
    }
   ],
   "source": [
    "#Show column names for Both Datasets\n",
    "booking.columns\n",
    "tripadvisor.columns"
   ]
  },
  {
   "cell_type": "code",
   "execution_count": 449,
   "id": "6b54511c-4d25-456b-98cf-6ea61d96e6ca",
   "metadata": {},
   "outputs": [
    {
     "data": {
      "text/html": [
       "<div>\n",
       "<style scoped>\n",
       "    .dataframe tbody tr th:only-of-type {\n",
       "        vertical-align: middle;\n",
       "    }\n",
       "\n",
       "    .dataframe tbody tr th {\n",
       "        vertical-align: top;\n",
       "    }\n",
       "\n",
       "    .dataframe thead th {\n",
       "        text-align: right;\n",
       "    }\n",
       "</style>\n",
       "<table border=\"1\" class=\"dataframe\">\n",
       "  <thead>\n",
       "    <tr style=\"text-align: right;\">\n",
       "      <th></th>\n",
       "      <th>hotel_name</th>\n",
       "      <th>price</th>\n",
       "      <th>num_reviews</th>\n",
       "      <th>review</th>\n",
       "    </tr>\n",
       "  </thead>\n",
       "  <tbody>\n",
       "    <tr>\n",
       "      <th>0</th>\n",
       "      <td>1. SALA Samui Choengmon Beach Resort</td>\n",
       "      <td>†45,854</td>\n",
       "      <td>2,820</td>\n",
       "      <td>The breakfast is excellent, the pools are real...</td>\n",
       "    </tr>\n",
       "    <tr>\n",
       "      <th>1</th>\n",
       "      <td>2. Napasai, A Belmond Hotel, Koh Samui</td>\n",
       "      <td>†29,666</td>\n",
       "      <td>1,191</td>\n",
       "      <td>We a had perfect view at the beach,</td>\n",
       "    </tr>\n",
       "    <tr>\n",
       "      <th>2</th>\n",
       "      <td>3. Pimalai Resort and Spa</td>\n",
       "      <td>†31,667</td>\n",
       "      <td>3,287</td>\n",
       "      <td>It has everything</td>\n",
       "    </tr>\n",
       "    <tr>\n",
       "      <th>3</th>\n",
       "      <td>4. Avani+ Mai Khao Phuket Suites &amp; Villas</td>\n",
       "      <td>†23,887</td>\n",
       "      <td>144</td>\n",
       "      <td>the villa was very</td>\n",
       "    </tr>\n",
       "    <tr>\n",
       "      <th>4</th>\n",
       "      <td>5. Sheraton Samui Resort</td>\n",
       "      <td>†18,816</td>\n",
       "      <td>1,006</td>\n",
       "      <td>Me &amp; my wife stayed there for 3 Nights and we ...</td>\n",
       "    </tr>\n",
       "  </tbody>\n",
       "</table>\n",
       "</div>"
      ],
      "text/plain": [
       "                                  hotel_name    price num_reviews  \\\n",
       "0       1. SALA Samui Choengmon Beach Resort  †45,854       2,820   \n",
       "1     2. Napasai, A Belmond Hotel, Koh Samui  †29,666       1,191   \n",
       "2                  3. Pimalai Resort and Spa  †31,667       3,287   \n",
       "3  4. Avani+ Mai Khao Phuket Suites & Villas  †23,887         144   \n",
       "4                   5. Sheraton Samui Resort  †18,816       1,006   \n",
       "\n",
       "                                              review  \n",
       "0  The breakfast is excellent, the pools are real...  \n",
       "1                We a had perfect view at the beach,  \n",
       "2                                  It has everything  \n",
       "3                                 the villa was very  \n",
       "4  Me & my wife stayed there for 3 Nights and we ...  "
      ]
     },
     "execution_count": 449,
     "metadata": {},
     "output_type": "execute_result"
    }
   ],
   "source": [
    "#Hmm, the column names are all over the place.. let's change them to a more standardized format\n",
    "booking = booking.rename(columns={'Hotel Name': 'hotel_name', 'Location': 'location', 'Rating': 'rating', 'Review Score': 'review_score', 'Number of   ': 'num_reviews', 'Room    Score': 'room_score', 'Room Type': 'room_type', 'Bed Type': 'bed_type', 'Room Price (in BDT or any other currency)': 'price'})\n",
    "tripadvisor = tripadvisor.rename(columns={'property name ': 'hotel_name', 'Room Price (in BDT or any other currency)': 'price', 'review_count': 'num_reviews', 'Comment about room': 'review'})\n",
    "\n",
    "#View Results\n",
    "booking.head()\n",
    "tripadvisor.head()"
   ]
  },
  {
   "cell_type": "markdown",
   "id": "9dbc50f8-d437-4503-82bf-aba8ee59be91",
   "metadata": {},
   "source": [
    "Now, for the initial Booking Dataset Cleaning:\n",
    "1. First, there are a lot of random characters in the columns rating, num_reviews, room_score, and price. Let's remove those!\n",
    "2. Of course, we need to check for NAs (and fill or remove them) in the dataset because this can impede further analysis.\n",
    "3. We need to change the numeric columns to a numeric type to analyze them."
   ]
  },
  {
   "cell_type": "code",
   "execution_count": 451,
   "id": "7262d2cc-2b77-4b49-8601-329978482968",
   "metadata": {},
   "outputs": [],
   "source": [
    "#remove characters from columns rating, num_reviews, room_score, price\n",
    "booking['num_reviews'] = booking['num_reviews'].str.extract('(\\d+)', expand=False)\n",
    "booking['rating'] = booking['rating'].str.extract('(\\d+)', expand=False)\n",
    "#booking['room_score'] = booking['room_score'].str.extract('(\\d+)', expand=False)\n",
    "booking['price'] = booking['price'].str.extract('(\\d+)', expand=False)"
   ]
  },
  {
   "cell_type": "code",
   "execution_count": 452,
   "id": "0af83700-6118-4913-860a-634f30161eff",
   "metadata": {},
   "outputs": [
    {
     "name": "stdout",
     "output_type": "stream",
     "text": [
      "[0, 0, 100, 106, 106, 0, 16, 0]\n"
     ]
    }
   ],
   "source": [
    "#check for NAs in Df\n",
    "booking_null = []\n",
    "booking_null.append(booking['hotel_name'].isnull().sum())\n",
    "booking_null.append(booking['location'].isnull().sum())\n",
    "booking_null.append(booking['rating'].isnull().sum())\n",
    "booking_null.append(booking['review_score'].isnull().sum())\n",
    "booking_null.append(booking['num_reviews'].isnull().sum())\n",
    "booking_null.append(booking['room_type'].isnull().sum())\n",
    "booking_null.append(booking['bed_type'].isnull().sum())\n",
    "booking_null.append(booking['price'].isnull().sum())\n",
    "print(booking_null)\n"
   ]
  },
  {
   "cell_type": "markdown",
   "id": "cc6ba71b-80c1-4f0a-b7cc-6da19838f574",
   "metadata": {},
   "source": [
    "There are 100 null values in \"rating\", 106 null values in \"review_score\", 106 null values in \"num_reviews\", and 16 null values in \"bed_type\"."
   ]
  },
  {
   "cell_type": "code",
   "execution_count": 454,
   "id": "fa39953d-1777-4351-a5db-2e6c5e6751a3",
   "metadata": {},
   "outputs": [],
   "source": [
    "#Clean Variables and make data numeric\n",
    "\n",
    "booking['rating'] = pd.to_numeric(booking['rating'])\n",
    "booking['num_reviews'] = pd.to_numeric(booking['num_reviews'])\n",
    "booking['room_score'] = pd.to_numeric(booking['room_score'])\n",
    "booking['price'] = pd.to_numeric(booking['price'])\n"
   ]
  },
  {
   "cell_type": "code",
   "execution_count": 455,
   "id": "68cf25e3-c068-4cce-97e1-16318f083966",
   "metadata": {},
   "outputs": [],
   "source": [
    "#fill null values for rating, review_score, num_reviews, bed_type\n",
    "booking['rating'] = booking['rating'].fillna(0)\n",
    "booking['review_score'] = booking['review_score'].fillna(0)\n",
    "booking['num_reviews'] = booking['num_reviews'].fillna(0)\n",
    "booking['bed_type'] = booking['bed_type'].fillna('None')\n"
   ]
  },
  {
   "cell_type": "markdown",
   "id": "76d3d8b2-5b94-43f4-be2d-15dcbeeb0e4a",
   "metadata": {},
   "source": [
    "Now, I am going through the same steps from above with the Trip advisor Dataset."
   ]
  },
  {
   "cell_type": "code",
   "execution_count": 457,
   "id": "bbb4a79a-9803-47c5-aa60-8574ad38a7db",
   "metadata": {},
   "outputs": [
    {
     "data": {
      "text/html": [
       "<div>\n",
       "<style scoped>\n",
       "    .dataframe tbody tr th:only-of-type {\n",
       "        vertical-align: middle;\n",
       "    }\n",
       "\n",
       "    .dataframe tbody tr th {\n",
       "        vertical-align: top;\n",
       "    }\n",
       "\n",
       "    .dataframe thead th {\n",
       "        text-align: right;\n",
       "    }\n",
       "</style>\n",
       "<table border=\"1\" class=\"dataframe\">\n",
       "  <thead>\n",
       "    <tr style=\"text-align: right;\">\n",
       "      <th></th>\n",
       "      <th>hotel_name</th>\n",
       "      <th>price</th>\n",
       "      <th>num_reviews</th>\n",
       "      <th>review</th>\n",
       "    </tr>\n",
       "  </thead>\n",
       "  <tbody>\n",
       "    <tr>\n",
       "      <th>0</th>\n",
       "      <td>1. SALA Samui Choengmon Beach Resort</td>\n",
       "      <td>†45,854</td>\n",
       "      <td>2,820</td>\n",
       "      <td>The breakfast is excellent, the pools are real...</td>\n",
       "    </tr>\n",
       "    <tr>\n",
       "      <th>1</th>\n",
       "      <td>2. Napasai, A Belmond Hotel, Koh Samui</td>\n",
       "      <td>†29,666</td>\n",
       "      <td>1,191</td>\n",
       "      <td>We a had perfect view at the beach,</td>\n",
       "    </tr>\n",
       "    <tr>\n",
       "      <th>2</th>\n",
       "      <td>3. Pimalai Resort and Spa</td>\n",
       "      <td>†31,667</td>\n",
       "      <td>3,287</td>\n",
       "      <td>It has everything</td>\n",
       "    </tr>\n",
       "    <tr>\n",
       "      <th>3</th>\n",
       "      <td>4. Avani+ Mai Khao Phuket Suites &amp; Villas</td>\n",
       "      <td>†23,887</td>\n",
       "      <td>144</td>\n",
       "      <td>the villa was very</td>\n",
       "    </tr>\n",
       "    <tr>\n",
       "      <th>4</th>\n",
       "      <td>5. Sheraton Samui Resort</td>\n",
       "      <td>†18,816</td>\n",
       "      <td>1,006</td>\n",
       "      <td>Me &amp; my wife stayed there for 3 Nights and we ...</td>\n",
       "    </tr>\n",
       "  </tbody>\n",
       "</table>\n",
       "</div>"
      ],
      "text/plain": [
       "                                  hotel_name    price num_reviews  \\\n",
       "0       1. SALA Samui Choengmon Beach Resort  †45,854       2,820   \n",
       "1     2. Napasai, A Belmond Hotel, Koh Samui  †29,666       1,191   \n",
       "2                  3. Pimalai Resort and Spa  †31,667       3,287   \n",
       "3  4. Avani+ Mai Khao Phuket Suites & Villas  †23,887         144   \n",
       "4                   5. Sheraton Samui Resort  †18,816       1,006   \n",
       "\n",
       "                                              review  \n",
       "0  The breakfast is excellent, the pools are real...  \n",
       "1                We a had perfect view at the beach,  \n",
       "2                                  It has everything  \n",
       "3                                 the villa was very  \n",
       "4  Me & my wife stayed there for 3 Nights and we ...  "
      ]
     },
     "execution_count": 457,
     "metadata": {},
     "output_type": "execute_result"
    }
   ],
   "source": [
    "tripadvisor.head()"
   ]
  },
  {
   "cell_type": "code",
   "execution_count": 458,
   "id": "87bb9a25-84fd-4fd8-9cd9-31a4492df02d",
   "metadata": {},
   "outputs": [
    {
     "name": "stdout",
     "output_type": "stream",
     "text": [
      "[0, 1346, 0, 1004]\n"
     ]
    }
   ],
   "source": [
    "#Check for NAs\n",
    "trip_null = []\n",
    "trip_null.append(tripadvisor['hotel_name'].isnull().sum())\n",
    "trip_null.append(tripadvisor['price'].isnull().sum())\n",
    "trip_null.append(tripadvisor['num_reviews'].isnull().sum())\n",
    "trip_null.append(tripadvisor['review'].isnull().sum())\n",
    "print(trip_null)"
   ]
  },
  {
   "cell_type": "markdown",
   "id": "3cdad17f-2b48-46b3-b992-bb3c97f1bb67",
   "metadata": {},
   "source": [
    "There are 1346 null values for 'price', and 1004 null values for 'review'."
   ]
  },
  {
   "cell_type": "code",
   "execution_count": 460,
   "id": "8edafea5-32c7-4ee1-9ff5-75c76e86aa0d",
   "metadata": {},
   "outputs": [],
   "source": [
    "#Remove non-numeric values\n",
    "tripadvisor['price'] = tripadvisor['price'].str.extract('(\\d+)', expand=False)\n",
    "tripadvisor['num_reviews'] = tripadvisor['num_reviews'].str.extract('(\\d+)', expand=False)"
   ]
  },
  {
   "cell_type": "code",
   "execution_count": 461,
   "id": "9b2889fc-7a71-4fea-b5a8-3d6dffc702ef",
   "metadata": {},
   "outputs": [],
   "source": [
    "tripadvisor['price'] = pd.to_numeric(tripadvisor['price'])\n",
    "tripadvisor['num_reviews'] = pd.to_numeric(tripadvisor['num_reviews'])"
   ]
  },
  {
   "cell_type": "code",
   "execution_count": 462,
   "id": "d805f172-f2a3-4bbb-8c63-0a9bd2266f9f",
   "metadata": {},
   "outputs": [
    {
     "name": "stdout",
     "output_type": "stream",
     "text": [
      "<class 'pandas.core.frame.DataFrame'>\n",
      "RangeIndex: 4477 entries, 0 to 4476\n",
      "Data columns (total 4 columns):\n",
      " #   Column       Non-Null Count  Dtype  \n",
      "---  ------       --------------  -----  \n",
      " 0   hotel_name   4477 non-null   object \n",
      " 1   price        3129 non-null   float64\n",
      " 2   num_reviews  4477 non-null   int64  \n",
      " 3   review       3473 non-null   object \n",
      "dtypes: float64(1), int64(1), object(2)\n",
      "memory usage: 140.0+ KB\n"
     ]
    }
   ],
   "source": [
    "tripadvisor.info()"
   ]
  },
  {
   "cell_type": "code",
   "execution_count": 463,
   "id": "395270da-8c94-4e67-b4fd-e8eb959c0839",
   "metadata": {},
   "outputs": [],
   "source": [
    "#Fill NAs\n",
    "tripadvisor['price'] = tripadvisor['price'].fillna(tripadvisor['price'].mean())\n",
    "tripadvisor['review'] = tripadvisor['review'].fillna('None')"
   ]
  },
  {
   "cell_type": "code",
   "execution_count": 464,
   "id": "d97c60d2-8e31-47e3-a8c6-aa0e4f306b14",
   "metadata": {},
   "outputs": [
    {
     "name": "stdout",
     "output_type": "stream",
     "text": [
      "[0, 0, 0, 0]\n"
     ]
    }
   ],
   "source": [
    "#Check nas are filled \n",
    "trip_null = []\n",
    "trip_null.append(tripadvisor['hotel_name'].isnull().sum())\n",
    "trip_null.append(tripadvisor['price'].isnull().sum())\n",
    "trip_null.append(tripadvisor['num_reviews'].isnull().sum())\n",
    "trip_null.append(tripadvisor['review'].isnull().sum())\n",
    "print(trip_null)"
   ]
  },
  {
   "cell_type": "code",
   "execution_count": 465,
   "id": "77023671-73a6-435b-b6cc-14548eca5422",
   "metadata": {},
   "outputs": [
    {
     "data": {
      "text/html": [
       "<div>\n",
       "<style scoped>\n",
       "    .dataframe tbody tr th:only-of-type {\n",
       "        vertical-align: middle;\n",
       "    }\n",
       "\n",
       "    .dataframe tbody tr th {\n",
       "        vertical-align: top;\n",
       "    }\n",
       "\n",
       "    .dataframe thead th {\n",
       "        text-align: right;\n",
       "    }\n",
       "</style>\n",
       "<table border=\"1\" class=\"dataframe\">\n",
       "  <thead>\n",
       "    <tr style=\"text-align: right;\">\n",
       "      <th></th>\n",
       "      <th>hotel_name</th>\n",
       "      <th>price</th>\n",
       "      <th>num_reviews</th>\n",
       "      <th>review</th>\n",
       "    </tr>\n",
       "  </thead>\n",
       "  <tbody>\n",
       "    <tr>\n",
       "      <th>0</th>\n",
       "      <td>SALA Samui Choengmon Beach Resort</td>\n",
       "      <td>45.0</td>\n",
       "      <td>2</td>\n",
       "      <td>The breakfast is excellent, the pools are real...</td>\n",
       "    </tr>\n",
       "    <tr>\n",
       "      <th>1</th>\n",
       "      <td>Napasai, A Belmond Hotel, Koh Samui</td>\n",
       "      <td>29.0</td>\n",
       "      <td>1</td>\n",
       "      <td>We a had perfect view at the beach,</td>\n",
       "    </tr>\n",
       "    <tr>\n",
       "      <th>2</th>\n",
       "      <td>Pimalai Resort and Spa</td>\n",
       "      <td>31.0</td>\n",
       "      <td>3</td>\n",
       "      <td>It has everything</td>\n",
       "    </tr>\n",
       "    <tr>\n",
       "      <th>3</th>\n",
       "      <td>Avani+ Mai Khao Phuket Suites &amp; Villas</td>\n",
       "      <td>23.0</td>\n",
       "      <td>144</td>\n",
       "      <td>the villa was very</td>\n",
       "    </tr>\n",
       "    <tr>\n",
       "      <th>4</th>\n",
       "      <td>Sheraton Samui Resort</td>\n",
       "      <td>18.0</td>\n",
       "      <td>1</td>\n",
       "      <td>Me &amp; my wife stayed there for 3 Nights and we ...</td>\n",
       "    </tr>\n",
       "  </tbody>\n",
       "</table>\n",
       "</div>"
      ],
      "text/plain": [
       "                                hotel_name  price  num_reviews  \\\n",
       "0        SALA Samui Choengmon Beach Resort   45.0            2   \n",
       "1      Napasai, A Belmond Hotel, Koh Samui   29.0            1   \n",
       "2                   Pimalai Resort and Spa   31.0            3   \n",
       "3   Avani+ Mai Khao Phuket Suites & Villas   23.0          144   \n",
       "4                    Sheraton Samui Resort   18.0            1   \n",
       "\n",
       "                                              review  \n",
       "0  The breakfast is excellent, the pools are real...  \n",
       "1                We a had perfect view at the beach,  \n",
       "2                                  It has everything  \n",
       "3                                 the villa was very  \n",
       "4  Me & my wife stayed there for 3 Nights and we ...  "
      ]
     },
     "execution_count": 465,
     "metadata": {},
     "output_type": "execute_result"
    }
   ],
   "source": [
    "#Remove the number and characters from hotel_name column\n",
    "tripadvisor_new = pd.concat([tripadvisor['price'], tripadvisor['num_reviews'], tripadvisor['review'], tripadvisor['hotel_name'].str.split(',', expand=True)], axis=1)\n",
    "tripadvisor['hotel_name'] = tripadvisor['hotel_name'].str.replace('(?:^|\\s)[0-9]+\\.[0-9.]*(?=\\s|$)','', regex=True)\n",
    "\n",
    "tripadvisor.head()"
   ]
  },
  {
   "cell_type": "markdown",
   "id": "52ce674c-c1b1-4e45-b7eb-6a55702792e0",
   "metadata": {},
   "source": [
    "After reviewing our dataframes so far, it seems that the city is nested in the location column. It would be useful to separate the city from this column for both datasets."
   ]
  },
  {
   "cell_type": "code",
   "execution_count": 467,
   "id": "167b0128-8887-4e3e-a039-e6bb0b53d1ab",
   "metadata": {},
   "outputs": [
    {
     "data": {
      "text/html": [
       "<div>\n",
       "<style scoped>\n",
       "    .dataframe tbody tr th:only-of-type {\n",
       "        vertical-align: middle;\n",
       "    }\n",
       "\n",
       "    .dataframe tbody tr th {\n",
       "        vertical-align: top;\n",
       "    }\n",
       "\n",
       "    .dataframe thead th {\n",
       "        text-align: right;\n",
       "    }\n",
       "</style>\n",
       "<table border=\"1\" class=\"dataframe\">\n",
       "  <thead>\n",
       "    <tr style=\"text-align: right;\">\n",
       "      <th></th>\n",
       "      <th>hotel_name</th>\n",
       "      <th>rating</th>\n",
       "      <th>review_score</th>\n",
       "      <th>num_reviews</th>\n",
       "      <th>room_score</th>\n",
       "      <th>room_type</th>\n",
       "      <th>bed_type</th>\n",
       "      <th>price</th>\n",
       "      <th>Area</th>\n",
       "      <th>city</th>\n",
       "    </tr>\n",
       "  </thead>\n",
       "  <tbody>\n",
       "    <tr>\n",
       "      <th>0</th>\n",
       "      <td>Krabi La Playa Resort - SHA Plus</td>\n",
       "      <td>8.0</td>\n",
       "      <td>Very Good</td>\n",
       "      <td>141.0</td>\n",
       "      <td>8.6</td>\n",
       "      <td>Deluxe Double or Twin Room</td>\n",
       "      <td>1 double or 2 twins</td>\n",
       "      <td>146</td>\n",
       "      <td>Ao Nang Beach</td>\n",
       "      <td>None</td>\n",
       "    </tr>\n",
       "    <tr>\n",
       "      <th>1</th>\n",
       "      <td>KC Beach Club &amp; Pool Villas</td>\n",
       "      <td>7.0</td>\n",
       "      <td>Good</td>\n",
       "      <td>193.0</td>\n",
       "      <td>NaN</td>\n",
       "      <td>Double Room with Balcony and Sea View</td>\n",
       "      <td>1 queen bed</td>\n",
       "      <td>215</td>\n",
       "      <td>Chaweng City Center</td>\n",
       "      <td>Chaweng</td>\n",
       "    </tr>\n",
       "    <tr>\n",
       "      <th>2</th>\n",
       "      <td>Rawai VIP Villas &amp; Kids Park</td>\n",
       "      <td>8.0</td>\n",
       "      <td>Very Good</td>\n",
       "      <td>63.0</td>\n",
       "      <td>8.9</td>\n",
       "      <td>2 Bedroom Pool Villa</td>\n",
       "      <td>2 queen beds</td>\n",
       "      <td>435</td>\n",
       "      <td>Rawai Beach</td>\n",
       "      <td>None</td>\n",
       "    </tr>\n",
       "    <tr>\n",
       "      <th>3</th>\n",
       "      <td>FuramaXclusive Sathorn, Bangkok</td>\n",
       "      <td>7.0</td>\n",
       "      <td>Good</td>\n",
       "      <td>1.0</td>\n",
       "      <td>8.1</td>\n",
       "      <td>Executive Double Room</td>\n",
       "      <td>1 full bed</td>\n",
       "      <td>146</td>\n",
       "      <td>Bang Rak</td>\n",
       "      <td>Bangkok</td>\n",
       "    </tr>\n",
       "    <tr>\n",
       "      <th>4</th>\n",
       "      <td>Bo Phut Resort and Spa - SHA Plus</td>\n",
       "      <td>9.0</td>\n",
       "      <td>Wonderful</td>\n",
       "      <td>294.0</td>\n",
       "      <td>9.6</td>\n",
       "      <td>Villa with Garden View</td>\n",
       "      <td>1 double or 2 twins</td>\n",
       "      <td>621</td>\n",
       "      <td>Bophut</td>\n",
       "      <td>None</td>\n",
       "    </tr>\n",
       "  </tbody>\n",
       "</table>\n",
       "</div>"
      ],
      "text/plain": [
       "                          hotel_name  rating review_score  num_reviews  \\\n",
       "0   Krabi La Playa Resort - SHA Plus     8.0    Very Good        141.0   \n",
       "1        KC Beach Club & Pool Villas     7.0         Good        193.0   \n",
       "2       Rawai VIP Villas & Kids Park     8.0    Very Good         63.0   \n",
       "3    FuramaXclusive Sathorn, Bangkok     7.0         Good          1.0   \n",
       "4  Bo Phut Resort and Spa - SHA Plus     9.0    Wonderful        294.0   \n",
       "\n",
       "   room_score                              room_type                bed_type  \\\n",
       "0         8.6             Deluxe Double or Twin Room     1 double or 2 twins   \n",
       "1         NaN  Double Room with Balcony and Sea View             1 queen bed   \n",
       "2         8.9                   2 Bedroom Pool Villa            2 queen beds   \n",
       "3         8.1                  Executive Double Room              1 full bed   \n",
       "4         9.6                 Villa with Garden View     1 double or 2 twins   \n",
       "\n",
       "   price                  Area     city  \n",
       "0    146         Ao Nang Beach     None  \n",
       "1    215  Chaweng City Center   Chaweng  \n",
       "2    435           Rawai Beach     None  \n",
       "3    146              Bang Rak  Bangkok  \n",
       "4    621                Bophut     None  "
      ]
     },
     "execution_count": 467,
     "metadata": {},
     "output_type": "execute_result"
    }
   ],
   "source": [
    "#Separate city from location for the booking dataset\n",
    "\n",
    "booking_new = pd.concat([booking['hotel_name'], booking['rating'], booking['review_score'], booking['num_reviews'], booking['room_score'], booking['room_type'], booking['bed_type'], booking['price'], booking['location'].str.split(', ', expand=True)], axis=1)\n",
    "booking_new = booking_new.rename(columns={0: 'Area', 1: 'city'})\n",
    "booking_new.head()"
   ]
  },
  {
   "cell_type": "code",
   "execution_count": 468,
   "id": "e785a5c5-ccc9-464c-bada-47f5fe67bfa6",
   "metadata": {},
   "outputs": [],
   "source": [
    "#Split hotel name and city for trip advisor dataset\n",
    "tripadvisor_new = pd.concat([tripadvisor['price'], tripadvisor['num_reviews'], tripadvisor['review'], tripadvisor['hotel_name'].str.rsplit(',', n=1, expand=True)], axis=1)\n",
    "tripadvisor_new = tripadvisor_new.rename(columns={0: 'hotel_name', 1: 'city'})\n",
    "\n",
    "                             "
   ]
  },
  {
   "cell_type": "code",
   "execution_count": null,
   "id": "4cda242a-5614-44ab-a7e9-d03545670b14",
   "metadata": {},
   "outputs": [],
   "source": [
    "#One more thing we can do - differentiate between places that are villas and places that are rooms"
   ]
  },
  {
   "cell_type": "code",
   "execution_count": 469,
   "id": "a7ed59c8-04a4-4aaf-95ce-1cb7d01bdc71",
   "metadata": {
    "scrolled": true
   },
   "outputs": [
    {
     "data": {
      "text/html": [
       "<div>\n",
       "<style scoped>\n",
       "    .dataframe tbody tr th:only-of-type {\n",
       "        vertical-align: middle;\n",
       "    }\n",
       "\n",
       "    .dataframe tbody tr th {\n",
       "        vertical-align: top;\n",
       "    }\n",
       "\n",
       "    .dataframe thead th {\n",
       "        text-align: right;\n",
       "    }\n",
       "</style>\n",
       "<table border=\"1\" class=\"dataframe\">\n",
       "  <thead>\n",
       "    <tr style=\"text-align: right;\">\n",
       "      <th></th>\n",
       "      <th>hotel_name</th>\n",
       "      <th>rating</th>\n",
       "      <th>review_score</th>\n",
       "      <th>num_reviews</th>\n",
       "      <th>room_score</th>\n",
       "      <th>room_type</th>\n",
       "      <th>bed_type</th>\n",
       "      <th>price</th>\n",
       "      <th>Area</th>\n",
       "      <th>city</th>\n",
       "    </tr>\n",
       "  </thead>\n",
       "  <tbody>\n",
       "    <tr>\n",
       "      <th>0</th>\n",
       "      <td>Krabi La Playa Resort - SHA Plus</td>\n",
       "      <td>8.0</td>\n",
       "      <td>Very Good</td>\n",
       "      <td>141.0</td>\n",
       "      <td>8.6</td>\n",
       "      <td>Deluxe Double or Twin Room</td>\n",
       "      <td>1 double or 2 twins</td>\n",
       "      <td>146</td>\n",
       "      <td>Ao Nang Beach</td>\n",
       "      <td>None</td>\n",
       "    </tr>\n",
       "    <tr>\n",
       "      <th>1</th>\n",
       "      <td>KC Beach Club &amp; Pool Villas</td>\n",
       "      <td>7.0</td>\n",
       "      <td>Good</td>\n",
       "      <td>193.0</td>\n",
       "      <td>NaN</td>\n",
       "      <td>Double Room with Balcony and Sea View</td>\n",
       "      <td>1 queen bed</td>\n",
       "      <td>215</td>\n",
       "      <td>Chaweng City Center</td>\n",
       "      <td>Chaweng</td>\n",
       "    </tr>\n",
       "    <tr>\n",
       "      <th>2</th>\n",
       "      <td>Rawai VIP Villas &amp; Kids Park</td>\n",
       "      <td>8.0</td>\n",
       "      <td>Very Good</td>\n",
       "      <td>63.0</td>\n",
       "      <td>8.9</td>\n",
       "      <td>2 Bedroom Pool Villa</td>\n",
       "      <td>2 queen beds</td>\n",
       "      <td>435</td>\n",
       "      <td>Rawai Beach</td>\n",
       "      <td>None</td>\n",
       "    </tr>\n",
       "    <tr>\n",
       "      <th>3</th>\n",
       "      <td>FuramaXclusive Sathorn, Bangkok</td>\n",
       "      <td>7.0</td>\n",
       "      <td>Good</td>\n",
       "      <td>1.0</td>\n",
       "      <td>8.1</td>\n",
       "      <td>Executive Double Room</td>\n",
       "      <td>1 full bed</td>\n",
       "      <td>146</td>\n",
       "      <td>Bang Rak</td>\n",
       "      <td>Bangkok</td>\n",
       "    </tr>\n",
       "    <tr>\n",
       "      <th>4</th>\n",
       "      <td>Bo Phut Resort and Spa - SHA Plus</td>\n",
       "      <td>9.0</td>\n",
       "      <td>Wonderful</td>\n",
       "      <td>294.0</td>\n",
       "      <td>9.6</td>\n",
       "      <td>Villa with Garden View</td>\n",
       "      <td>1 double or 2 twins</td>\n",
       "      <td>621</td>\n",
       "      <td>Bophut</td>\n",
       "      <td>None</td>\n",
       "    </tr>\n",
       "  </tbody>\n",
       "</table>\n",
       "</div>"
      ],
      "text/plain": [
       "                          hotel_name  rating review_score  num_reviews  \\\n",
       "0   Krabi La Playa Resort - SHA Plus     8.0    Very Good        141.0   \n",
       "1        KC Beach Club & Pool Villas     7.0         Good        193.0   \n",
       "2       Rawai VIP Villas & Kids Park     8.0    Very Good         63.0   \n",
       "3    FuramaXclusive Sathorn, Bangkok     7.0         Good          1.0   \n",
       "4  Bo Phut Resort and Spa - SHA Plus     9.0    Wonderful        294.0   \n",
       "\n",
       "   room_score                              room_type                bed_type  \\\n",
       "0         8.6             Deluxe Double or Twin Room     1 double or 2 twins   \n",
       "1         NaN  Double Room with Balcony and Sea View             1 queen bed   \n",
       "2         8.9                   2 Bedroom Pool Villa            2 queen beds   \n",
       "3         8.1                  Executive Double Room              1 full bed   \n",
       "4         9.6                 Villa with Garden View     1 double or 2 twins   \n",
       "\n",
       "   price                  Area     city  \n",
       "0    146         Ao Nang Beach     None  \n",
       "1    215  Chaweng City Center   Chaweng  \n",
       "2    435           Rawai Beach     None  \n",
       "3    146              Bang Rak  Bangkok  \n",
       "4    621                Bophut     None  "
      ]
     },
     "execution_count": 469,
     "metadata": {},
     "output_type": "execute_result"
    }
   ],
   "source": [
    "#Take a final look at both cleaned datasets:\n",
    "\n",
    "booking_new.head()"
   ]
  },
  {
   "cell_type": "code",
   "execution_count": 487,
   "id": "4bd936f7-3fd6-481d-9746-8387266377a1",
   "metadata": {},
   "outputs": [
    {
     "data": {
      "text/html": [
       "<div>\n",
       "<style scoped>\n",
       "    .dataframe tbody tr th:only-of-type {\n",
       "        vertical-align: middle;\n",
       "    }\n",
       "\n",
       "    .dataframe tbody tr th {\n",
       "        vertical-align: top;\n",
       "    }\n",
       "\n",
       "    .dataframe thead th {\n",
       "        text-align: right;\n",
       "    }\n",
       "</style>\n",
       "<table border=\"1\" class=\"dataframe\">\n",
       "  <thead>\n",
       "    <tr style=\"text-align: right;\">\n",
       "      <th></th>\n",
       "      <th>price</th>\n",
       "      <th>num_reviews</th>\n",
       "      <th>review</th>\n",
       "      <th>hotel_name</th>\n",
       "      <th>city</th>\n",
       "    </tr>\n",
       "  </thead>\n",
       "  <tbody>\n",
       "    <tr>\n",
       "      <th>0</th>\n",
       "      <td>45.0</td>\n",
       "      <td>2</td>\n",
       "      <td>The breakfast is excellent, the pools are real...</td>\n",
       "      <td>sala samui choengmon beach resort</td>\n",
       "      <td>None</td>\n",
       "    </tr>\n",
       "    <tr>\n",
       "      <th>1</th>\n",
       "      <td>29.0</td>\n",
       "      <td>1</td>\n",
       "      <td>We a had perfect view at the beach,</td>\n",
       "      <td>napasai a belmond hotel</td>\n",
       "      <td>Koh Samui</td>\n",
       "    </tr>\n",
       "    <tr>\n",
       "      <th>2</th>\n",
       "      <td>31.0</td>\n",
       "      <td>3</td>\n",
       "      <td>It has everything</td>\n",
       "      <td>pimalai resort and spa</td>\n",
       "      <td>None</td>\n",
       "    </tr>\n",
       "    <tr>\n",
       "      <th>3</th>\n",
       "      <td>23.0</td>\n",
       "      <td>144</td>\n",
       "      <td>the villa was very</td>\n",
       "      <td>avani mai khao phuket suites  villas</td>\n",
       "      <td>None</td>\n",
       "    </tr>\n",
       "    <tr>\n",
       "      <th>4</th>\n",
       "      <td>18.0</td>\n",
       "      <td>1</td>\n",
       "      <td>Me &amp; my wife stayed there for 3 Nights and we ...</td>\n",
       "      <td>sheraton samui resort</td>\n",
       "      <td>None</td>\n",
       "    </tr>\n",
       "  </tbody>\n",
       "</table>\n",
       "</div>"
      ],
      "text/plain": [
       "   price  num_reviews                                             review  \\\n",
       "0   45.0            2  The breakfast is excellent, the pools are real...   \n",
       "1   29.0            1                We a had perfect view at the beach,   \n",
       "2   31.0            3                                  It has everything   \n",
       "3   23.0          144                                 the villa was very   \n",
       "4   18.0            1  Me & my wife stayed there for 3 Nights and we ...   \n",
       "\n",
       "                              hotel_name        city  \n",
       "0      sala samui choengmon beach resort        None  \n",
       "1                napasai a belmond hotel   Koh Samui  \n",
       "2                 pimalai resort and spa        None  \n",
       "3   avani mai khao phuket suites  villas        None  \n",
       "4                  sheraton samui resort        None  "
      ]
     },
     "execution_count": 487,
     "metadata": {},
     "output_type": "execute_result"
    }
   ],
   "source": [
    "tripadvisor_new.head()"
   ]
  },
  {
   "cell_type": "markdown",
   "id": "d46cc778-e368-4b6f-80fc-26e39b491f14",
   "metadata": {},
   "source": [
    "One more final thought - for our booking dataset, we can create bins for ratings that are okay, good, or great. "
   ]
  },
  {
   "cell_type": "code",
   "execution_count": 477,
   "id": "0181f172-09ee-4939-bc0b-effbe91f5a8f",
   "metadata": {},
   "outputs": [
    {
     "data": {
      "text/html": [
       "<div>\n",
       "<style scoped>\n",
       "    .dataframe tbody tr th:only-of-type {\n",
       "        vertical-align: middle;\n",
       "    }\n",
       "\n",
       "    .dataframe tbody tr th {\n",
       "        vertical-align: top;\n",
       "    }\n",
       "\n",
       "    .dataframe thead th {\n",
       "        text-align: right;\n",
       "    }\n",
       "</style>\n",
       "<table border=\"1\" class=\"dataframe\">\n",
       "  <thead>\n",
       "    <tr style=\"text-align: right;\">\n",
       "      <th></th>\n",
       "      <th>hotel_name</th>\n",
       "      <th>rating</th>\n",
       "      <th>review_score</th>\n",
       "      <th>num_reviews</th>\n",
       "      <th>room_score</th>\n",
       "      <th>room_type</th>\n",
       "      <th>bed_type</th>\n",
       "      <th>price</th>\n",
       "      <th>Area</th>\n",
       "      <th>city</th>\n",
       "      <th>tier</th>\n",
       "    </tr>\n",
       "  </thead>\n",
       "  <tbody>\n",
       "    <tr>\n",
       "      <th>0</th>\n",
       "      <td>Krabi La Playa Resort - SHA Plus</td>\n",
       "      <td>8.0</td>\n",
       "      <td>Very Good</td>\n",
       "      <td>141.0</td>\n",
       "      <td>8.6</td>\n",
       "      <td>Deluxe Double or Twin Room</td>\n",
       "      <td>1 double or 2 twins</td>\n",
       "      <td>146</td>\n",
       "      <td>Ao Nang Beach</td>\n",
       "      <td>None</td>\n",
       "      <td>good</td>\n",
       "    </tr>\n",
       "    <tr>\n",
       "      <th>1</th>\n",
       "      <td>KC Beach Club &amp; Pool Villas</td>\n",
       "      <td>7.0</td>\n",
       "      <td>Good</td>\n",
       "      <td>193.0</td>\n",
       "      <td>NaN</td>\n",
       "      <td>Double Room with Balcony and Sea View</td>\n",
       "      <td>1 queen bed</td>\n",
       "      <td>215</td>\n",
       "      <td>Chaweng City Center</td>\n",
       "      <td>Chaweng</td>\n",
       "      <td>good</td>\n",
       "    </tr>\n",
       "    <tr>\n",
       "      <th>2</th>\n",
       "      <td>Rawai VIP Villas &amp; Kids Park</td>\n",
       "      <td>8.0</td>\n",
       "      <td>Very Good</td>\n",
       "      <td>63.0</td>\n",
       "      <td>8.9</td>\n",
       "      <td>2 Bedroom Pool Villa</td>\n",
       "      <td>2 queen beds</td>\n",
       "      <td>435</td>\n",
       "      <td>Rawai Beach</td>\n",
       "      <td>None</td>\n",
       "      <td>good</td>\n",
       "    </tr>\n",
       "    <tr>\n",
       "      <th>3</th>\n",
       "      <td>FuramaXclusive Sathorn, Bangkok</td>\n",
       "      <td>7.0</td>\n",
       "      <td>Good</td>\n",
       "      <td>1.0</td>\n",
       "      <td>8.1</td>\n",
       "      <td>Executive Double Room</td>\n",
       "      <td>1 full bed</td>\n",
       "      <td>146</td>\n",
       "      <td>Bang Rak</td>\n",
       "      <td>Bangkok</td>\n",
       "      <td>good</td>\n",
       "    </tr>\n",
       "    <tr>\n",
       "      <th>4</th>\n",
       "      <td>Bo Phut Resort and Spa - SHA Plus</td>\n",
       "      <td>9.0</td>\n",
       "      <td>Wonderful</td>\n",
       "      <td>294.0</td>\n",
       "      <td>9.6</td>\n",
       "      <td>Villa with Garden View</td>\n",
       "      <td>1 double or 2 twins</td>\n",
       "      <td>621</td>\n",
       "      <td>Bophut</td>\n",
       "      <td>None</td>\n",
       "      <td>great</td>\n",
       "    </tr>\n",
       "  </tbody>\n",
       "</table>\n",
       "</div>"
      ],
      "text/plain": [
       "                          hotel_name  rating review_score  num_reviews  \\\n",
       "0   Krabi La Playa Resort - SHA Plus     8.0    Very Good        141.0   \n",
       "1        KC Beach Club & Pool Villas     7.0         Good        193.0   \n",
       "2       Rawai VIP Villas & Kids Park     8.0    Very Good         63.0   \n",
       "3    FuramaXclusive Sathorn, Bangkok     7.0         Good          1.0   \n",
       "4  Bo Phut Resort and Spa - SHA Plus     9.0    Wonderful        294.0   \n",
       "\n",
       "   room_score                              room_type                bed_type  \\\n",
       "0         8.6             Deluxe Double or Twin Room     1 double or 2 twins   \n",
       "1         NaN  Double Room with Balcony and Sea View             1 queen bed   \n",
       "2         8.9                   2 Bedroom Pool Villa            2 queen beds   \n",
       "3         8.1                  Executive Double Room              1 full bed   \n",
       "4         9.6                 Villa with Garden View     1 double or 2 twins   \n",
       "\n",
       "   price                  Area     city   tier  \n",
       "0    146         Ao Nang Beach     None   good  \n",
       "1    215  Chaweng City Center   Chaweng   good  \n",
       "2    435           Rawai Beach     None   good  \n",
       "3    146              Bang Rak  Bangkok   good  \n",
       "4    621                Bophut     None  great  "
      ]
     },
     "execution_count": 477,
     "metadata": {},
     "output_type": "execute_result"
    }
   ],
   "source": [
    "# Create a list of our conditions\n",
    "conditions = [\n",
    "    (booking_new['rating'] <= 6),\n",
    "    (booking_new['rating'] > 6) & (booking_new['rating'] <= 8),\n",
    "    (booking_new['rating'] >= 9)\n",
    "    ]\n",
    "\n",
    "#Create a list of the values we want to assign for each condition\n",
    "values = ['okay', 'good', 'great']\n",
    "\n",
    "# Create a new column and use np.select to assign values to it using our lists as arguments\n",
    "booking_new['tier'] = np.select(conditions, values)\n",
    "\n",
    "# Display updated DataFrame\n",
    "booking_new.head()"
   ]
  },
  {
   "cell_type": "code",
   "execution_count": 507,
   "id": "5234c41d-349e-4100-a2ee-a8cf1866e734",
   "metadata": {},
   "outputs": [
    {
     "data": {
      "text/plain": [
       "tier\n",
       "good     2754\n",
       "great     434\n",
       "okay      277\n",
       "Name: hotel_name, dtype: int64"
      ]
     },
     "execution_count": 507,
     "metadata": {},
     "output_type": "execute_result"
    }
   ],
   "source": [
    "#View how many are in each tier\n",
    "\n",
    "booking_new.groupby(\"tier\")[\"hotel_name\"].count()"
   ]
  },
  {
   "cell_type": "code",
   "execution_count": 479,
   "id": "365ab7b0-6181-410c-99e7-39a44b351ad7",
   "metadata": {},
   "outputs": [
    {
     "data": {
      "text/plain": [
       "<Axes: ylabel='tier'>"
      ]
     },
     "execution_count": 479,
     "metadata": {},
     "output_type": "execute_result"
    },
    {
     "data": {
      "image/png": "[encoded data removed]",
      "text/plain": [
       "<Figure size 640x480 with 1 Axes>"
      ]
     },
     "metadata": {},
     "output_type": "display_data"
    }
   ],
   "source": [
    "booking_new.groupby(\"tier\")[\"hotel_name\"].count().plot.barh()"
   ]
  },
  {
   "cell_type": "markdown",
   "id": "d91f949d-c441-468b-8116-d96163ae3645",
   "metadata": {},
   "source": [
    "Therefore, we see that there are 434 hotels that are \"great\" (9 or 10 star rating), 2754 that are \"good\" (7-8 star rating), and just 277 hotels that are \"okay\" (6 or less stars). If we can combine the two datasets, we can analyze the reviews with text analysis to see what key words are in each tier of hotels.\n",
    "\n",
    "Let's attempt to join the two datasets - but before doing so, we need to standardize the hotel_name column to join on."
   ]
  },
  {
   "cell_type": "code",
   "execution_count": 481,
   "id": "db70d656-c6c4-481e-9c28-614f105c6963",
   "metadata": {},
   "outputs": [
    {
     "data": {
      "text/plain": [
       "'my name is sarah'"
      ]
     },
     "execution_count": 481,
     "metadata": {},
     "output_type": "execute_result"
    }
   ],
   "source": [
    "#function to remove punctuation and lowercase hotel_name column\n",
    "import string\n",
    "def clean_string(text):\n",
    "    for punctuation in string.punctuation:\n",
    "        text = text.replace(punctuation, '')\n",
    "        text = text.lower()\n",
    "    return text\n",
    "\n",
    "#test function\n",
    "clean_string('MY, NAme, is!!! Sarah....')\n",
    "\n"
   ]
  },
  {
   "cell_type": "code",
   "execution_count": 482,
   "id": "a477cb6a-dfee-4ae4-a46f-c93b57b5350d",
   "metadata": {},
   "outputs": [],
   "source": [
    "# Now we can apply our function to the hotel_name in both datasets\n",
    "booking_new['hotel_name']= booking_new['hotel_name'].apply(clean_string)\n",
    "tripadvisor_new['hotel_name']=tripadvisor_new['hotel_name'].apply(clean_string)"
   ]
  },
  {
   "cell_type": "code",
   "execution_count": 483,
   "id": "22c40ccb-3947-4ef1-8991-043a017ec2f0",
   "metadata": {},
   "outputs": [
    {
     "name": "stdout",
     "output_type": "stream",
     "text": [
      "<class 'pandas.core.frame.DataFrame'>\n",
      "RangeIndex: 6 entries, 0 to 5\n",
      "Data columns (total 15 columns):\n",
      " #   Column         Non-Null Count  Dtype  \n",
      "---  ------         --------------  -----  \n",
      " 0   price_x        6 non-null      float64\n",
      " 1   num_reviews_x  6 non-null      int64  \n",
      " 2   review         6 non-null      object \n",
      " 3   hotel_name     6 non-null      object \n",
      " 4   city_x         0 non-null      object \n",
      " 5   rating         6 non-null      float64\n",
      " 6   review_score   6 non-null      object \n",
      " 7   num_reviews_y  6 non-null      float64\n",
      " 8   room_score     6 non-null      float64\n",
      " 9   room_type      6 non-null      object \n",
      " 10  bed_type       6 non-null      object \n",
      " 11  price_y        6 non-null      int64  \n",
      " 12  Area           6 non-null      object \n",
      " 13  city_y         6 non-null      object \n",
      " 14  tier           6 non-null      object \n",
      "dtypes: float64(4), int64(2), object(9)\n",
      "memory usage: 852.0+ bytes\n"
     ]
    }
   ],
   "source": [
    "#Next step... combine datasets with inner join \n",
    "join = pd.merge(tripadvisor_new, booking_new, on='hotel_name', how='inner')\n",
    "join.head()\n",
    "join.info()"
   ]
  },
  {
   "cell_type": "markdown",
   "id": "e35bce3e-e049-4808-93c8-12104c735028",
   "metadata": {},
   "source": [
    "Well... considering that the datasets only share 6 hotels in common.. There's not much that we can do regarding text analysis. However, we were able to clean the datasets to a workable format for other types of analysis. "
   ]
  },
  {
   "cell_type": "markdown",
   "id": "cf0ceca5-8a3c-41f5-b996-1960b5984c27",
   "metadata": {},
   "source": [
    "FINAL THOUGHTS:\n",
    "\n",
    "Though the datasets did not overlap as much as one would like, this was a great exercise in data cleaning and munging for further analysis. We were able to standardize columns, change data types, remove unnecessary characters, and split columns into a normalized format. These are very useful skills for future data analysis. I hope you enjoyed reviewing this code!"
   ]
  }
 ],
 "metadata": {
  "kernelspec": {
   "display_name": "Python 3 (ipykernel)",
   "language": "python",
   "name": "python3"
  },
  "language_info": {
   "codemirror_mode": {
    "name": "ipython",
    "version": 3
   },
   "file_extension": ".py",
   "mimetype": "text/x-python",
   "name": "python",
   "nbconvert_exporter": "python",
   "pygments_lexer": "ipython3",
   "version": "3.11.5"
  }
 },
 "nbformat": 4,
 "nbformat_minor": 5
}
